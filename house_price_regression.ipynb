{
  "nbformat": 4,
  "nbformat_minor": 0,
  "metadata": {
    "colab": {
      "provenance": [],
      "authorship_tag": "ABX9TyMVT5cFDu5pLn7SO9UGY+su",
      "include_colab_link": true
    },
    "kernelspec": {
      "name": "python3",
      "display_name": "Python 3"
    },
    "language_info": {
      "name": "python"
    }
  },
  "cells": [
    {
      "cell_type": "markdown",
      "metadata": {
        "id": "view-in-github",
        "colab_type": "text"
      },
      "source": [
        "<a href=\"https://colab.research.google.com/github/mertmisirli/1_Tensorflow/blob/main/house_price_regression.ipynb\" target=\"_parent\"><img src=\"https://colab.research.google.com/assets/colab-badge.svg\" alt=\"Open In Colab\"/></a>"
      ]
    },
    {
      "cell_type": "code",
      "execution_count": 2,
      "metadata": {
        "id": "QB_ezvUGlUgW"
      },
      "outputs": [],
      "source": [
        "import tensorflow as tf\n",
        "from tensorflow import keras\n",
        "from tensorflow.keras import layers, models\n",
        "\n",
        "import numpy as np\n",
        "import pandas as pd\n",
        "import matplotlib.pyplot as plt\n",
        "import seaborn as sns\n",
        "from sklearn.model_selection import train_test_split\n",
        "from sklearn.preprocessing import StandardScaler"
      ]
    },
    {
      "cell_type": "code",
      "source": [
        "url = \"https://raw.githubusercontent.com/selva86/datasets/master/BostonHousing.csv\"\n",
        "df = pd.read_csv(url)\n"
      ],
      "metadata": {
        "id": "soDUXfRomDvn"
      },
      "execution_count": 4,
      "outputs": []
    },
    {
      "cell_type": "code",
      "source": [
        "df.columns"
      ],
      "metadata": {
        "colab": {
          "base_uri": "https://localhost:8080/"
        },
        "id": "kpWQbALmmW3R",
        "outputId": "550e7eca-6967-4398-a8d8-d512ab9d4202"
      },
      "execution_count": 6,
      "outputs": [
        {
          "output_type": "execute_result",
          "data": {
            "text/plain": [
              "Index(['crim', 'zn', 'indus', 'chas', 'nox', 'rm', 'age', 'dis', 'rad', 'tax',\n",
              "       'ptratio', 'b', 'lstat', 'medv'],\n",
              "      dtype='object')"
            ]
          },
          "metadata": {},
          "execution_count": 6
        }
      ]
    },
    {
      "cell_type": "code",
      "source": [
        "# Giriş ve hedef\n",
        "X = df.drop(\"medv\", axis=1)\n",
        "y = df[\"medv\"]\n"
      ],
      "metadata": {
        "id": "s1D5rxbTmgKg"
      },
      "execution_count": 7,
      "outputs": []
    },
    {
      "cell_type": "code",
      "source": [
        "\n",
        "# Eğitim/Test böl ve standardize et\n",
        "from sklearn.model_selection import train_test_split\n",
        "from sklearn.preprocessing import StandardScaler\n",
        "\n",
        "X_train, X_test, y_train, y_test = train_test_split(X, y, test_size=0.2, random_state=42)\n",
        "\n",
        "scaler = StandardScaler()\n",
        "X_train_scaled = scaler.fit_transform(X_train)\n",
        "X_test_scaled = scaler.transform(X_test)\n",
        "\n",
        "# TensorFlow modeli\n",
        "import tensorflow as tf\n",
        "from tensorflow.keras import layers, models\n",
        "\n",
        "model = models.Sequential([\n",
        "    layers.Dense(64, activation='relu', input_shape=[X_train.shape[1]]),\n",
        "    layers.Dense(64, activation='relu'),\n",
        "    layers.Dense(1)\n",
        "])\n",
        "\n",
        "model.compile(optimizer='adam', loss='mse', metrics=['mae', 'acc'])\n",
        "\n"
      ],
      "metadata": {
        "colab": {
          "base_uri": "https://localhost:8080/"
        },
        "id": "_2sbXd9hmscP",
        "outputId": "3de61b83-6afa-4a90-a943-d392dda93228"
      },
      "execution_count": 14,
      "outputs": [
        {
          "output_type": "stream",
          "name": "stderr",
          "text": [
            "/usr/local/lib/python3.11/dist-packages/keras/src/layers/core/dense.py:87: UserWarning: Do not pass an `input_shape`/`input_dim` argument to a layer. When using Sequential models, prefer using an `Input(shape)` object as the first layer in the model instead.\n",
            "  super().__init__(activity_regularizer=activity_regularizer, **kwargs)\n"
          ]
        }
      ]
    },
    {
      "cell_type": "code",
      "source": [
        "history = model.fit(X_train_scaled, y_train, epochs=100, validation_split=0.2, verbose=1)\n"
      ],
      "metadata": {
        "colab": {
          "base_uri": "https://localhost:8080/"
        },
        "id": "bA-hyqoUmvea",
        "outputId": "191a8e5b-f814-4e70-e435-6c8a8a533037"
      },
      "execution_count": 15,
      "outputs": [
        {
          "output_type": "stream",
          "name": "stdout",
          "text": [
            "Epoch 1/100\n",
            "\u001b[1m11/11\u001b[0m \u001b[32m━━━━━━━━━━━━━━━━━━━━\u001b[0m\u001b[37m\u001b[0m \u001b[1m3s\u001b[0m 74ms/step - acc: 0.0000e+00 - loss: 617.6663 - mae: 22.9232 - val_acc: 0.0000e+00 - val_loss: 513.0189 - val_mae: 21.0817\n",
            "Epoch 2/100\n",
            "\u001b[1m11/11\u001b[0m \u001b[32m━━━━━━━━━━━━━━━━━━━━\u001b[0m\u001b[37m\u001b[0m \u001b[1m1s\u001b[0m 9ms/step - acc: 0.0000e+00 - loss: 551.4498 - mae: 21.4448 - val_acc: 0.0000e+00 - val_loss: 462.2129 - val_mae: 19.9041\n",
            "Epoch 3/100\n",
            "\u001b[1m11/11\u001b[0m \u001b[32m━━━━━━━━━━━━━━━━━━━━\u001b[0m\u001b[37m\u001b[0m \u001b[1m0s\u001b[0m 9ms/step - acc: 0.0000e+00 - loss: 506.0855 - mae: 20.3641 - val_acc: 0.0000e+00 - val_loss: 399.8964 - val_mae: 18.3641\n",
            "Epoch 4/100\n",
            "\u001b[1m11/11\u001b[0m \u001b[32m━━━━━━━━━━━━━━━━━━━━\u001b[0m\u001b[37m\u001b[0m \u001b[1m0s\u001b[0m 9ms/step - acc: 0.0000e+00 - loss: 438.0590 - mae: 18.8195 - val_acc: 0.0000e+00 - val_loss: 322.5990 - val_mae: 16.2718\n",
            "Epoch 5/100\n",
            "\u001b[1m11/11\u001b[0m \u001b[32m━━━━━━━━━━━━━━━━━━━━\u001b[0m\u001b[37m\u001b[0m \u001b[1m0s\u001b[0m 9ms/step - acc: 0.0000e+00 - loss: 331.6493 - mae: 16.0044 - val_acc: 0.0000e+00 - val_loss: 231.4331 - val_mae: 13.4835\n",
            "Epoch 6/100\n",
            "\u001b[1m11/11\u001b[0m \u001b[32m━━━━━━━━━━━━━━━━━━━━\u001b[0m\u001b[37m\u001b[0m \u001b[1m0s\u001b[0m 14ms/step - acc: 0.0000e+00 - loss: 236.7982 - mae: 13.2666 - val_acc: 0.0000e+00 - val_loss: 140.4706 - val_mae: 10.1087\n",
            "Epoch 7/100\n",
            "\u001b[1m11/11\u001b[0m \u001b[32m━━━━━━━━━━━━━━━━━━━━\u001b[0m\u001b[37m\u001b[0m \u001b[1m0s\u001b[0m 9ms/step - acc: 0.0000e+00 - loss: 124.7507 - mae: 9.1159 - val_acc: 0.0000e+00 - val_loss: 76.6169 - val_mae: 6.8177\n",
            "Epoch 8/100\n",
            "\u001b[1m11/11\u001b[0m \u001b[32m━━━━━━━━━━━━━━━━━━━━\u001b[0m\u001b[37m\u001b[0m \u001b[1m0s\u001b[0m 12ms/step - acc: 0.0000e+00 - loss: 89.0203 - mae: 7.4055 - val_acc: 0.0000e+00 - val_loss: 45.5392 - val_mae: 4.7692\n",
            "Epoch 9/100\n",
            "\u001b[1m11/11\u001b[0m \u001b[32m━━━━━━━━━━━━━━━━━━━━\u001b[0m\u001b[37m\u001b[0m \u001b[1m0s\u001b[0m 9ms/step - acc: 0.0000e+00 - loss: 60.0218 - mae: 5.9500 - val_acc: 0.0000e+00 - val_loss: 35.8438 - val_mae: 4.2668\n",
            "Epoch 10/100\n",
            "\u001b[1m11/11\u001b[0m \u001b[32m━━━━━━━━━━━━━━━━━━━━\u001b[0m\u001b[37m\u001b[0m \u001b[1m0s\u001b[0m 9ms/step - acc: 0.0000e+00 - loss: 44.3333 - mae: 5.1372 - val_acc: 0.0000e+00 - val_loss: 31.3250 - val_mae: 3.9374\n",
            "Epoch 11/100\n",
            "\u001b[1m11/11\u001b[0m \u001b[32m━━━━━━━━━━━━━━━━━━━━\u001b[0m\u001b[37m\u001b[0m \u001b[1m0s\u001b[0m 9ms/step - acc: 0.0000e+00 - loss: 43.0280 - mae: 4.8859 - val_acc: 0.0000e+00 - val_loss: 28.6906 - val_mae: 3.7772\n",
            "Epoch 12/100\n",
            "\u001b[1m11/11\u001b[0m \u001b[32m━━━━━━━━━━━━━━━━━━━━\u001b[0m\u001b[37m\u001b[0m \u001b[1m0s\u001b[0m 12ms/step - acc: 0.0000e+00 - loss: 33.6603 - mae: 4.2755 - val_acc: 0.0000e+00 - val_loss: 27.5309 - val_mae: 3.6564\n",
            "Epoch 13/100\n",
            "\u001b[1m11/11\u001b[0m \u001b[32m━━━━━━━━━━━━━━━━━━━━\u001b[0m\u001b[37m\u001b[0m \u001b[1m0s\u001b[0m 9ms/step - acc: 0.0000e+00 - loss: 26.7420 - mae: 3.8366 - val_acc: 0.0000e+00 - val_loss: 26.1495 - val_mae: 3.6385\n",
            "Epoch 14/100\n",
            "\u001b[1m11/11\u001b[0m \u001b[32m━━━━━━━━━━━━━━━━━━━━\u001b[0m\u001b[37m\u001b[0m \u001b[1m0s\u001b[0m 9ms/step - acc: 0.0000e+00 - loss: 23.1678 - mae: 3.7265 - val_acc: 0.0000e+00 - val_loss: 25.8542 - val_mae: 3.6405\n",
            "Epoch 15/100\n",
            "\u001b[1m11/11\u001b[0m \u001b[32m━━━━━━━━━━━━━━━━━━━━\u001b[0m\u001b[37m\u001b[0m \u001b[1m0s\u001b[0m 9ms/step - acc: 0.0000e+00 - loss: 22.4102 - mae: 3.4948 - val_acc: 0.0000e+00 - val_loss: 25.5725 - val_mae: 3.5932\n",
            "Epoch 16/100\n",
            "\u001b[1m11/11\u001b[0m \u001b[32m━━━━━━━━━━━━━━━━━━━━\u001b[0m\u001b[37m\u001b[0m \u001b[1m0s\u001b[0m 13ms/step - acc: 0.0000e+00 - loss: 25.1397 - mae: 3.6663 - val_acc: 0.0000e+00 - val_loss: 24.9544 - val_mae: 3.5123\n",
            "Epoch 17/100\n",
            "\u001b[1m11/11\u001b[0m \u001b[32m━━━━━━━━━━━━━━━━━━━━\u001b[0m\u001b[37m\u001b[0m \u001b[1m0s\u001b[0m 13ms/step - acc: 0.0000e+00 - loss: 19.2416 - mae: 3.3476 - val_acc: 0.0000e+00 - val_loss: 24.4391 - val_mae: 3.4606\n",
            "Epoch 18/100\n",
            "\u001b[1m11/11\u001b[0m \u001b[32m━━━━━━━━━━━━━━━━━━━━\u001b[0m\u001b[37m\u001b[0m \u001b[1m0s\u001b[0m 9ms/step - acc: 0.0000e+00 - loss: 21.9334 - mae: 3.3074 - val_acc: 0.0000e+00 - val_loss: 24.2703 - val_mae: 3.4166\n",
            "Epoch 19/100\n",
            "\u001b[1m11/11\u001b[0m \u001b[32m━━━━━━━━━━━━━━━━━━━━\u001b[0m\u001b[37m\u001b[0m \u001b[1m0s\u001b[0m 10ms/step - acc: 0.0000e+00 - loss: 19.9069 - mae: 3.2175 - val_acc: 0.0000e+00 - val_loss: 23.6659 - val_mae: 3.3318\n",
            "Epoch 20/100\n",
            "\u001b[1m11/11\u001b[0m \u001b[32m━━━━━━━━━━━━━━━━━━━━\u001b[0m\u001b[37m\u001b[0m \u001b[1m0s\u001b[0m 13ms/step - acc: 0.0000e+00 - loss: 18.2267 - mae: 3.1620 - val_acc: 0.0000e+00 - val_loss: 23.7017 - val_mae: 3.3119\n",
            "Epoch 21/100\n",
            "\u001b[1m11/11\u001b[0m \u001b[32m━━━━━━━━━━━━━━━━━━━━\u001b[0m\u001b[37m\u001b[0m \u001b[1m0s\u001b[0m 11ms/step - acc: 0.0000e+00 - loss: 17.8366 - mae: 3.1734 - val_acc: 0.0000e+00 - val_loss: 23.3367 - val_mae: 3.2801\n",
            "Epoch 22/100\n",
            "\u001b[1m11/11\u001b[0m \u001b[32m━━━━━━━━━━━━━━━━━━━━\u001b[0m\u001b[37m\u001b[0m \u001b[1m0s\u001b[0m 11ms/step - acc: 0.0000e+00 - loss: 19.4437 - mae: 3.0576 - val_acc: 0.0000e+00 - val_loss: 22.6578 - val_mae: 3.2326\n",
            "Epoch 23/100\n",
            "\u001b[1m11/11\u001b[0m \u001b[32m━━━━━━━━━━━━━━━━━━━━\u001b[0m\u001b[37m\u001b[0m \u001b[1m0s\u001b[0m 11ms/step - acc: 0.0000e+00 - loss: 16.5160 - mae: 2.9661 - val_acc: 0.0000e+00 - val_loss: 21.7939 - val_mae: 3.1640\n",
            "Epoch 24/100\n",
            "\u001b[1m11/11\u001b[0m \u001b[32m━━━━━━━━━━━━━━━━━━━━\u001b[0m\u001b[37m\u001b[0m \u001b[1m0s\u001b[0m 11ms/step - acc: 0.0000e+00 - loss: 14.1271 - mae: 2.7903 - val_acc: 0.0000e+00 - val_loss: 21.6981 - val_mae: 3.1562\n",
            "Epoch 25/100\n",
            "\u001b[1m11/11\u001b[0m \u001b[32m━━━━━━━━━━━━━━━━━━━━\u001b[0m\u001b[37m\u001b[0m \u001b[1m0s\u001b[0m 12ms/step - acc: 0.0000e+00 - loss: 17.0046 - mae: 3.0899 - val_acc: 0.0000e+00 - val_loss: 21.6399 - val_mae: 3.2434\n",
            "Epoch 26/100\n",
            "\u001b[1m11/11\u001b[0m \u001b[32m━━━━━━━━━━━━━━━━━━━━\u001b[0m\u001b[37m\u001b[0m \u001b[1m0s\u001b[0m 11ms/step - acc: 0.0000e+00 - loss: 15.1700 - mae: 2.9535 - val_acc: 0.0000e+00 - val_loss: 20.9819 - val_mae: 3.1464\n",
            "Epoch 27/100\n",
            "\u001b[1m11/11\u001b[0m \u001b[32m━━━━━━━━━━━━━━━━━━━━\u001b[0m\u001b[37m\u001b[0m \u001b[1m0s\u001b[0m 10ms/step - acc: 0.0000e+00 - loss: 15.4269 - mae: 2.8209 - val_acc: 0.0000e+00 - val_loss: 20.8604 - val_mae: 3.0846\n",
            "Epoch 28/100\n",
            "\u001b[1m11/11\u001b[0m \u001b[32m━━━━━━━━━━━━━━━━━━━━\u001b[0m\u001b[37m\u001b[0m \u001b[1m0s\u001b[0m 9ms/step - acc: 0.0000e+00 - loss: 12.9816 - mae: 2.7445 - val_acc: 0.0000e+00 - val_loss: 20.8670 - val_mae: 3.0557\n",
            "Epoch 29/100\n",
            "\u001b[1m11/11\u001b[0m \u001b[32m━━━━━━━━━━━━━━━━━━━━\u001b[0m\u001b[37m\u001b[0m \u001b[1m0s\u001b[0m 9ms/step - acc: 0.0000e+00 - loss: 13.6308 - mae: 2.6499 - val_acc: 0.0000e+00 - val_loss: 19.8804 - val_mae: 2.9942\n",
            "Epoch 30/100\n",
            "\u001b[1m11/11\u001b[0m \u001b[32m━━━━━━━━━━━━━━━━━━━━\u001b[0m\u001b[37m\u001b[0m \u001b[1m0s\u001b[0m 9ms/step - acc: 0.0000e+00 - loss: 12.0669 - mae: 2.6022 - val_acc: 0.0000e+00 - val_loss: 19.8811 - val_mae: 3.0021\n",
            "Epoch 31/100\n",
            "\u001b[1m11/11\u001b[0m \u001b[32m━━━━━━━━━━━━━━━━━━━━\u001b[0m\u001b[37m\u001b[0m \u001b[1m0s\u001b[0m 9ms/step - acc: 0.0000e+00 - loss: 15.5265 - mae: 2.9059 - val_acc: 0.0000e+00 - val_loss: 19.5877 - val_mae: 2.9696\n",
            "Epoch 32/100\n",
            "\u001b[1m11/11\u001b[0m \u001b[32m━━━━━━━━━━━━━━━━━━━━\u001b[0m\u001b[37m\u001b[0m \u001b[1m0s\u001b[0m 9ms/step - acc: 0.0000e+00 - loss: 15.1945 - mae: 2.8481 - val_acc: 0.0000e+00 - val_loss: 19.0421 - val_mae: 3.0078\n",
            "Epoch 33/100\n",
            "\u001b[1m11/11\u001b[0m \u001b[32m━━━━━━━━━━━━━━━━━━━━\u001b[0m\u001b[37m\u001b[0m \u001b[1m0s\u001b[0m 9ms/step - acc: 0.0000e+00 - loss: 14.9158 - mae: 2.7276 - val_acc: 0.0000e+00 - val_loss: 18.4200 - val_mae: 2.9055\n",
            "Epoch 34/100\n",
            "\u001b[1m11/11\u001b[0m \u001b[32m━━━━━━━━━━━━━━━━━━━━\u001b[0m\u001b[37m\u001b[0m \u001b[1m0s\u001b[0m 9ms/step - acc: 0.0000e+00 - loss: 15.2928 - mae: 2.8625 - val_acc: 0.0000e+00 - val_loss: 18.2990 - val_mae: 2.9062\n",
            "Epoch 35/100\n",
            "\u001b[1m11/11\u001b[0m \u001b[32m━━━━━━━━━━━━━━━━━━━━\u001b[0m\u001b[37m\u001b[0m \u001b[1m0s\u001b[0m 9ms/step - acc: 0.0000e+00 - loss: 11.7577 - mae: 2.5836 - val_acc: 0.0000e+00 - val_loss: 18.3772 - val_mae: 2.9103\n",
            "Epoch 36/100\n",
            "\u001b[1m11/11\u001b[0m \u001b[32m━━━━━━━━━━━━━━━━━━━━\u001b[0m\u001b[37m\u001b[0m \u001b[1m0s\u001b[0m 9ms/step - acc: 0.0000e+00 - loss: 16.9488 - mae: 2.9570 - val_acc: 0.0000e+00 - val_loss: 18.5218 - val_mae: 2.9173\n",
            "Epoch 37/100\n",
            "\u001b[1m11/11\u001b[0m \u001b[32m━━━━━━━━━━━━━━━━━━━━\u001b[0m\u001b[37m\u001b[0m \u001b[1m0s\u001b[0m 9ms/step - acc: 0.0000e+00 - loss: 14.5654 - mae: 2.7530 - val_acc: 0.0000e+00 - val_loss: 17.9964 - val_mae: 2.8432\n",
            "Epoch 38/100\n",
            "\u001b[1m11/11\u001b[0m \u001b[32m━━━━━━━━━━━━━━━━━━━━\u001b[0m\u001b[37m\u001b[0m \u001b[1m0s\u001b[0m 9ms/step - acc: 0.0000e+00 - loss: 12.5574 - mae: 2.5320 - val_acc: 0.0000e+00 - val_loss: 17.8351 - val_mae: 2.8269\n",
            "Epoch 39/100\n",
            "\u001b[1m11/11\u001b[0m \u001b[32m━━━━━━━━━━━━━━━━━━━━\u001b[0m\u001b[37m\u001b[0m \u001b[1m0s\u001b[0m 9ms/step - acc: 0.0000e+00 - loss: 10.9534 - mae: 2.4539 - val_acc: 0.0000e+00 - val_loss: 17.7803 - val_mae: 2.8363\n",
            "Epoch 40/100\n",
            "\u001b[1m11/11\u001b[0m \u001b[32m━━━━━━━━━━━━━━━━━━━━\u001b[0m\u001b[37m\u001b[0m \u001b[1m0s\u001b[0m 10ms/step - acc: 0.0000e+00 - loss: 13.6929 - mae: 2.6679 - val_acc: 0.0000e+00 - val_loss: 18.0226 - val_mae: 2.8906\n",
            "Epoch 41/100\n",
            "\u001b[1m11/11\u001b[0m \u001b[32m━━━━━━━━━━━━━━━━━━━━\u001b[0m\u001b[37m\u001b[0m \u001b[1m0s\u001b[0m 13ms/step - acc: 0.0000e+00 - loss: 11.0352 - mae: 2.4789 - val_acc: 0.0000e+00 - val_loss: 17.3885 - val_mae: 2.8069\n",
            "Epoch 42/100\n",
            "\u001b[1m11/11\u001b[0m \u001b[32m━━━━━━━━━━━━━━━━━━━━\u001b[0m\u001b[37m\u001b[0m \u001b[1m0s\u001b[0m 19ms/step - acc: 0.0000e+00 - loss: 13.0419 - mae: 2.5604 - val_acc: 0.0000e+00 - val_loss: 17.1617 - val_mae: 2.7753\n",
            "Epoch 43/100\n",
            "\u001b[1m11/11\u001b[0m \u001b[32m━━━━━━━━━━━━━━━━━━━━\u001b[0m\u001b[37m\u001b[0m \u001b[1m0s\u001b[0m 15ms/step - acc: 0.0000e+00 - loss: 11.4788 - mae: 2.5400 - val_acc: 0.0000e+00 - val_loss: 17.5266 - val_mae: 2.8371\n",
            "Epoch 44/100\n",
            "\u001b[1m11/11\u001b[0m \u001b[32m━━━━━━━━━━━━━━━━━━━━\u001b[0m\u001b[37m\u001b[0m \u001b[1m0s\u001b[0m 21ms/step - acc: 0.0000e+00 - loss: 11.4717 - mae: 2.5148 - val_acc: 0.0000e+00 - val_loss: 17.4341 - val_mae: 2.8575\n",
            "Epoch 45/100\n",
            "\u001b[1m11/11\u001b[0m \u001b[32m━━━━━━━━━━━━━━━━━━━━\u001b[0m\u001b[37m\u001b[0m \u001b[1m0s\u001b[0m 12ms/step - acc: 0.0000e+00 - loss: 9.9762 - mae: 2.3753 - val_acc: 0.0000e+00 - val_loss: 16.9444 - val_mae: 2.7889\n",
            "Epoch 46/100\n",
            "\u001b[1m11/11\u001b[0m \u001b[32m━━━━━━━━━━━━━━━━━━━━\u001b[0m\u001b[37m\u001b[0m \u001b[1m0s\u001b[0m 16ms/step - acc: 0.0000e+00 - loss: 11.9721 - mae: 2.6346 - val_acc: 0.0000e+00 - val_loss: 16.9086 - val_mae: 2.7817\n",
            "Epoch 47/100\n",
            "\u001b[1m11/11\u001b[0m \u001b[32m━━━━━━━━━━━━━━━━━━━━\u001b[0m\u001b[37m\u001b[0m \u001b[1m0s\u001b[0m 18ms/step - acc: 0.0000e+00 - loss: 12.4936 - mae: 2.5621 - val_acc: 0.0000e+00 - val_loss: 17.0639 - val_mae: 2.8118\n",
            "Epoch 48/100\n",
            "\u001b[1m11/11\u001b[0m \u001b[32m━━━━━━━━━━━━━━━━━━━━\u001b[0m\u001b[37m\u001b[0m \u001b[1m0s\u001b[0m 14ms/step - acc: 0.0000e+00 - loss: 9.5122 - mae: 2.3025 - val_acc: 0.0000e+00 - val_loss: 16.9376 - val_mae: 2.8113\n",
            "Epoch 49/100\n",
            "\u001b[1m11/11\u001b[0m \u001b[32m━━━━━━━━━━━━━━━━━━━━\u001b[0m\u001b[37m\u001b[0m \u001b[1m0s\u001b[0m 9ms/step - acc: 0.0000e+00 - loss: 11.2028 - mae: 2.4985 - val_acc: 0.0000e+00 - val_loss: 16.4982 - val_mae: 2.8386\n",
            "Epoch 50/100\n",
            "\u001b[1m11/11\u001b[0m \u001b[32m━━━━━━━━━━━━━━━━━━━━\u001b[0m\u001b[37m\u001b[0m \u001b[1m0s\u001b[0m 9ms/step - acc: 0.0000e+00 - loss: 12.8508 - mae: 2.5956 - val_acc: 0.0000e+00 - val_loss: 16.0156 - val_mae: 2.7445\n",
            "Epoch 51/100\n",
            "\u001b[1m11/11\u001b[0m \u001b[32m━━━━━━━━━━━━━━━━━━━━\u001b[0m\u001b[37m\u001b[0m \u001b[1m0s\u001b[0m 8ms/step - acc: 0.0000e+00 - loss: 9.3030 - mae: 2.2879 - val_acc: 0.0000e+00 - val_loss: 15.6635 - val_mae: 2.7008\n",
            "Epoch 52/100\n",
            "\u001b[1m11/11\u001b[0m \u001b[32m━━━━━━━━━━━━━━━━━━━━\u001b[0m\u001b[37m\u001b[0m \u001b[1m0s\u001b[0m 9ms/step - acc: 0.0000e+00 - loss: 11.4498 - mae: 2.3786 - val_acc: 0.0000e+00 - val_loss: 15.4924 - val_mae: 2.6854\n",
            "Epoch 53/100\n",
            "\u001b[1m11/11\u001b[0m \u001b[32m━━━━━━━━━━━━━━━━━━━━\u001b[0m\u001b[37m\u001b[0m \u001b[1m0s\u001b[0m 11ms/step - acc: 0.0000e+00 - loss: 10.4359 - mae: 2.3680 - val_acc: 0.0000e+00 - val_loss: 15.8402 - val_mae: 2.7162\n",
            "Epoch 54/100\n",
            "\u001b[1m11/11\u001b[0m \u001b[32m━━━━━━━━━━━━━━━━━━━━\u001b[0m\u001b[37m\u001b[0m \u001b[1m0s\u001b[0m 9ms/step - acc: 0.0000e+00 - loss: 8.9777 - mae: 2.2316 - val_acc: 0.0000e+00 - val_loss: 15.7078 - val_mae: 2.7171\n",
            "Epoch 55/100\n",
            "\u001b[1m11/11\u001b[0m \u001b[32m━━━━━━━━━━━━━━━━━━━━\u001b[0m\u001b[37m\u001b[0m \u001b[1m0s\u001b[0m 10ms/step - acc: 0.0000e+00 - loss: 9.6172 - mae: 2.2948 - val_acc: 0.0000e+00 - val_loss: 16.0593 - val_mae: 2.7397\n",
            "Epoch 56/100\n",
            "\u001b[1m11/11\u001b[0m \u001b[32m━━━━━━━━━━━━━━━━━━━━\u001b[0m\u001b[37m\u001b[0m \u001b[1m0s\u001b[0m 11ms/step - acc: 0.0000e+00 - loss: 11.1295 - mae: 2.4803 - val_acc: 0.0000e+00 - val_loss: 17.2901 - val_mae: 2.7401\n",
            "Epoch 57/100\n",
            "\u001b[1m11/11\u001b[0m \u001b[32m━━━━━━━━━━━━━━━━━━━━\u001b[0m\u001b[37m\u001b[0m \u001b[1m0s\u001b[0m 11ms/step - acc: 0.0000e+00 - loss: 10.3258 - mae: 2.4242 - val_acc: 0.0000e+00 - val_loss: 16.9880 - val_mae: 2.7419\n",
            "Epoch 58/100\n",
            "\u001b[1m11/11\u001b[0m \u001b[32m━━━━━━━━━━━━━━━━━━━━\u001b[0m\u001b[37m\u001b[0m \u001b[1m0s\u001b[0m 11ms/step - acc: 0.0000e+00 - loss: 9.5653 - mae: 2.2988 - val_acc: 0.0000e+00 - val_loss: 16.5486 - val_mae: 2.7336\n",
            "Epoch 59/100\n",
            "\u001b[1m11/11\u001b[0m \u001b[32m━━━━━━━━━━━━━━━━━━━━\u001b[0m\u001b[37m\u001b[0m \u001b[1m0s\u001b[0m 14ms/step - acc: 0.0000e+00 - loss: 10.5798 - mae: 2.4009 - val_acc: 0.0000e+00 - val_loss: 16.1083 - val_mae: 2.7216\n",
            "Epoch 60/100\n",
            "\u001b[1m11/11\u001b[0m \u001b[32m━━━━━━━━━━━━━━━━━━━━\u001b[0m\u001b[37m\u001b[0m \u001b[1m0s\u001b[0m 13ms/step - acc: 0.0000e+00 - loss: 8.6447 - mae: 2.1279 - val_acc: 0.0000e+00 - val_loss: 16.0268 - val_mae: 2.7113\n",
            "Epoch 61/100\n",
            "\u001b[1m11/11\u001b[0m \u001b[32m━━━━━━━━━━━━━━━━━━━━\u001b[0m\u001b[37m\u001b[0m \u001b[1m0s\u001b[0m 11ms/step - acc: 0.0000e+00 - loss: 9.0192 - mae: 2.1883 - val_acc: 0.0000e+00 - val_loss: 16.6749 - val_mae: 2.8321\n",
            "Epoch 62/100\n",
            "\u001b[1m11/11\u001b[0m \u001b[32m━━━━━━━━━━━━━━━━━━━━\u001b[0m\u001b[37m\u001b[0m \u001b[1m0s\u001b[0m 11ms/step - acc: 0.0000e+00 - loss: 9.4342 - mae: 2.2263 - val_acc: 0.0000e+00 - val_loss: 15.9744 - val_mae: 2.7462\n",
            "Epoch 63/100\n",
            "\u001b[1m11/11\u001b[0m \u001b[32m━━━━━━━━━━━━━━━━━━━━\u001b[0m\u001b[37m\u001b[0m \u001b[1m0s\u001b[0m 10ms/step - acc: 0.0000e+00 - loss: 9.7132 - mae: 2.2932 - val_acc: 0.0000e+00 - val_loss: 15.8975 - val_mae: 2.7367\n",
            "Epoch 64/100\n",
            "\u001b[1m11/11\u001b[0m \u001b[32m━━━━━━━━━━━━━━━━━━━━\u001b[0m\u001b[37m\u001b[0m \u001b[1m0s\u001b[0m 11ms/step - acc: 0.0000e+00 - loss: 9.4338 - mae: 2.2678 - val_acc: 0.0000e+00 - val_loss: 16.4948 - val_mae: 2.8336\n",
            "Epoch 65/100\n",
            "\u001b[1m11/11\u001b[0m \u001b[32m━━━━━━━━━━━━━━━━━━━━\u001b[0m\u001b[37m\u001b[0m \u001b[1m0s\u001b[0m 12ms/step - acc: 0.0000e+00 - loss: 9.6503 - mae: 2.3363 - val_acc: 0.0000e+00 - val_loss: 15.5779 - val_mae: 2.7211\n",
            "Epoch 66/100\n",
            "\u001b[1m11/11\u001b[0m \u001b[32m━━━━━━━━━━━━━━━━━━━━\u001b[0m\u001b[37m\u001b[0m \u001b[1m0s\u001b[0m 10ms/step - acc: 0.0000e+00 - loss: 9.8861 - mae: 2.2478 - val_acc: 0.0000e+00 - val_loss: 15.1200 - val_mae: 2.6501\n",
            "Epoch 67/100\n",
            "\u001b[1m11/11\u001b[0m \u001b[32m━━━━━━━━━━━━━━━━━━━━\u001b[0m\u001b[37m\u001b[0m \u001b[1m0s\u001b[0m 10ms/step - acc: 0.0000e+00 - loss: 10.2580 - mae: 2.3188 - val_acc: 0.0000e+00 - val_loss: 15.3124 - val_mae: 2.6806\n",
            "Epoch 68/100\n",
            "\u001b[1m11/11\u001b[0m \u001b[32m━━━━━━━━━━━━━━━━━━━━\u001b[0m\u001b[37m\u001b[0m \u001b[1m0s\u001b[0m 11ms/step - acc: 0.0000e+00 - loss: 9.0668 - mae: 2.2340 - val_acc: 0.0000e+00 - val_loss: 16.0189 - val_mae: 2.7805\n",
            "Epoch 69/100\n",
            "\u001b[1m11/11\u001b[0m \u001b[32m━━━━━━━━━━━━━━━━━━━━\u001b[0m\u001b[37m\u001b[0m \u001b[1m0s\u001b[0m 10ms/step - acc: 0.0000e+00 - loss: 7.8526 - mae: 2.0895 - val_acc: 0.0000e+00 - val_loss: 15.3932 - val_mae: 2.7027\n",
            "Epoch 70/100\n",
            "\u001b[1m11/11\u001b[0m \u001b[32m━━━━━━━━━━━━━━━━━━━━\u001b[0m\u001b[37m\u001b[0m \u001b[1m0s\u001b[0m 11ms/step - acc: 0.0000e+00 - loss: 9.1412 - mae: 2.2047 - val_acc: 0.0000e+00 - val_loss: 15.2842 - val_mae: 2.7032\n",
            "Epoch 71/100\n",
            "\u001b[1m11/11\u001b[0m \u001b[32m━━━━━━━━━━━━━━━━━━━━\u001b[0m\u001b[37m\u001b[0m \u001b[1m0s\u001b[0m 10ms/step - acc: 0.0000e+00 - loss: 8.4261 - mae: 2.1935 - val_acc: 0.0000e+00 - val_loss: 15.2746 - val_mae: 2.7275\n",
            "Epoch 72/100\n",
            "\u001b[1m11/11\u001b[0m \u001b[32m━━━━━━━━━━━━━━━━━━━━\u001b[0m\u001b[37m\u001b[0m \u001b[1m0s\u001b[0m 11ms/step - acc: 0.0000e+00 - loss: 8.4747 - mae: 2.1014 - val_acc: 0.0000e+00 - val_loss: 15.5987 - val_mae: 2.7601\n",
            "Epoch 73/100\n",
            "\u001b[1m11/11\u001b[0m \u001b[32m━━━━━━━━━━━━━━━━━━━━\u001b[0m\u001b[37m\u001b[0m \u001b[1m0s\u001b[0m 12ms/step - acc: 0.0000e+00 - loss: 8.2303 - mae: 2.1292 - val_acc: 0.0000e+00 - val_loss: 15.4029 - val_mae: 2.7381\n",
            "Epoch 74/100\n",
            "\u001b[1m11/11\u001b[0m \u001b[32m━━━━━━━━━━━━━━━━━━━━\u001b[0m\u001b[37m\u001b[0m \u001b[1m0s\u001b[0m 11ms/step - acc: 0.0000e+00 - loss: 9.2707 - mae: 2.2484 - val_acc: 0.0000e+00 - val_loss: 14.5933 - val_mae: 2.7584\n",
            "Epoch 75/100\n",
            "\u001b[1m11/11\u001b[0m \u001b[32m━━━━━━━━━━━━━━━━━━━━\u001b[0m\u001b[37m\u001b[0m \u001b[1m0s\u001b[0m 11ms/step - acc: 0.0000e+00 - loss: 9.1255 - mae: 2.2625 - val_acc: 0.0000e+00 - val_loss: 14.4179 - val_mae: 2.6959\n",
            "Epoch 76/100\n",
            "\u001b[1m11/11\u001b[0m \u001b[32m━━━━━━━━━━━━━━━━━━━━\u001b[0m\u001b[37m\u001b[0m \u001b[1m0s\u001b[0m 10ms/step - acc: 0.0000e+00 - loss: 9.3774 - mae: 2.2038 - val_acc: 0.0000e+00 - val_loss: 14.6185 - val_mae: 2.7136\n",
            "Epoch 77/100\n",
            "\u001b[1m11/11\u001b[0m \u001b[32m━━━━━━━━━━━━━━━━━━━━\u001b[0m\u001b[37m\u001b[0m \u001b[1m0s\u001b[0m 9ms/step - acc: 0.0000e+00 - loss: 8.2202 - mae: 2.1446 - val_acc: 0.0000e+00 - val_loss: 14.6415 - val_mae: 2.7311\n",
            "Epoch 78/100\n",
            "\u001b[1m11/11\u001b[0m \u001b[32m━━━━━━━━━━━━━━━━━━━━\u001b[0m\u001b[37m\u001b[0m \u001b[1m0s\u001b[0m 9ms/step - acc: 0.0000e+00 - loss: 8.3484 - mae: 2.1541 - val_acc: 0.0000e+00 - val_loss: 14.6868 - val_mae: 2.7405\n",
            "Epoch 79/100\n",
            "\u001b[1m11/11\u001b[0m \u001b[32m━━━━━━━━━━━━━━━━━━━━\u001b[0m\u001b[37m\u001b[0m \u001b[1m0s\u001b[0m 9ms/step - acc: 0.0000e+00 - loss: 8.3736 - mae: 2.1458 - val_acc: 0.0000e+00 - val_loss: 14.6772 - val_mae: 2.7054\n",
            "Epoch 80/100\n",
            "\u001b[1m11/11\u001b[0m \u001b[32m━━━━━━━━━━━━━━━━━━━━\u001b[0m\u001b[37m\u001b[0m \u001b[1m0s\u001b[0m 9ms/step - acc: 0.0000e+00 - loss: 7.8879 - mae: 2.0883 - val_acc: 0.0000e+00 - val_loss: 14.9939 - val_mae: 2.7295\n",
            "Epoch 81/100\n",
            "\u001b[1m11/11\u001b[0m \u001b[32m━━━━━━━━━━━━━━━━━━━━\u001b[0m\u001b[37m\u001b[0m \u001b[1m0s\u001b[0m 9ms/step - acc: 0.0000e+00 - loss: 9.1042 - mae: 2.2022 - val_acc: 0.0000e+00 - val_loss: 14.9715 - val_mae: 2.7469\n",
            "Epoch 82/100\n",
            "\u001b[1m11/11\u001b[0m \u001b[32m━━━━━━━━━━━━━━━━━━━━\u001b[0m\u001b[37m\u001b[0m \u001b[1m0s\u001b[0m 9ms/step - acc: 0.0000e+00 - loss: 9.0395 - mae: 2.2051 - val_acc: 0.0000e+00 - val_loss: 14.6179 - val_mae: 2.7481\n",
            "Epoch 83/100\n",
            "\u001b[1m11/11\u001b[0m \u001b[32m━━━━━━━━━━━━━━━━━━━━\u001b[0m\u001b[37m\u001b[0m \u001b[1m0s\u001b[0m 10ms/step - acc: 0.0000e+00 - loss: 8.7972 - mae: 2.0756 - val_acc: 0.0000e+00 - val_loss: 14.8703 - val_mae: 2.7370\n",
            "Epoch 84/100\n",
            "\u001b[1m11/11\u001b[0m \u001b[32m━━━━━━━━━━━━━━━━━━━━\u001b[0m\u001b[37m\u001b[0m \u001b[1m0s\u001b[0m 11ms/step - acc: 0.0000e+00 - loss: 9.0919 - mae: 2.1595 - val_acc: 0.0000e+00 - val_loss: 14.0738 - val_mae: 2.6523\n",
            "Epoch 85/100\n",
            "\u001b[1m11/11\u001b[0m \u001b[32m━━━━━━━━━━━━━━━━━━━━\u001b[0m\u001b[37m\u001b[0m \u001b[1m0s\u001b[0m 11ms/step - acc: 0.0000e+00 - loss: 8.2482 - mae: 2.1022 - val_acc: 0.0000e+00 - val_loss: 14.4679 - val_mae: 2.7383\n",
            "Epoch 86/100\n",
            "\u001b[1m11/11\u001b[0m \u001b[32m━━━━━━━━━━━━━━━━━━━━\u001b[0m\u001b[37m\u001b[0m \u001b[1m0s\u001b[0m 14ms/step - acc: 0.0000e+00 - loss: 8.6294 - mae: 2.1780 - val_acc: 0.0000e+00 - val_loss: 15.1406 - val_mae: 2.8402\n",
            "Epoch 87/100\n",
            "\u001b[1m11/11\u001b[0m \u001b[32m━━━━━━━━━━━━━━━━━━━━\u001b[0m\u001b[37m\u001b[0m \u001b[1m0s\u001b[0m 11ms/step - acc: 0.0000e+00 - loss: 6.6464 - mae: 1.9995 - val_acc: 0.0000e+00 - val_loss: 14.6265 - val_mae: 2.7457\n",
            "Epoch 88/100\n",
            "\u001b[1m11/11\u001b[0m \u001b[32m━━━━━━━━━━━━━━━━━━━━\u001b[0m\u001b[37m\u001b[0m \u001b[1m0s\u001b[0m 16ms/step - acc: 0.0000e+00 - loss: 8.6885 - mae: 2.0559 - val_acc: 0.0000e+00 - val_loss: 15.0222 - val_mae: 2.7910\n",
            "Epoch 89/100\n",
            "\u001b[1m11/11\u001b[0m \u001b[32m━━━━━━━━━━━━━━━━━━━━\u001b[0m\u001b[37m\u001b[0m \u001b[1m0s\u001b[0m 11ms/step - acc: 0.0000e+00 - loss: 7.8863 - mae: 2.0419 - val_acc: 0.0000e+00 - val_loss: 14.1880 - val_mae: 2.7117\n",
            "Epoch 90/100\n",
            "\u001b[1m11/11\u001b[0m \u001b[32m━━━━━━━━━━━━━━━━━━━━\u001b[0m\u001b[37m\u001b[0m \u001b[1m0s\u001b[0m 10ms/step - acc: 0.0000e+00 - loss: 8.8087 - mae: 2.1990 - val_acc: 0.0000e+00 - val_loss: 14.9816 - val_mae: 2.8047\n",
            "Epoch 91/100\n",
            "\u001b[1m11/11\u001b[0m \u001b[32m━━━━━━━━━━━━━━━━━━━━\u001b[0m\u001b[37m\u001b[0m \u001b[1m0s\u001b[0m 14ms/step - acc: 0.0000e+00 - loss: 7.8800 - mae: 2.0946 - val_acc: 0.0000e+00 - val_loss: 14.6861 - val_mae: 2.7958\n",
            "Epoch 92/100\n",
            "\u001b[1m11/11\u001b[0m \u001b[32m━━━━━━━━━━━━━━━━━━━━\u001b[0m\u001b[37m\u001b[0m \u001b[1m0s\u001b[0m 11ms/step - acc: 0.0000e+00 - loss: 8.0244 - mae: 2.0938 - val_acc: 0.0000e+00 - val_loss: 14.6498 - val_mae: 2.7652\n",
            "Epoch 93/100\n",
            "\u001b[1m11/11\u001b[0m \u001b[32m━━━━━━━━━━━━━━━━━━━━\u001b[0m\u001b[37m\u001b[0m \u001b[1m0s\u001b[0m 11ms/step - acc: 0.0000e+00 - loss: 7.5073 - mae: 2.0893 - val_acc: 0.0000e+00 - val_loss: 14.3572 - val_mae: 2.7471\n",
            "Epoch 94/100\n",
            "\u001b[1m11/11\u001b[0m \u001b[32m━━━━━━━━━━━━━━━━━━━━\u001b[0m\u001b[37m\u001b[0m \u001b[1m0s\u001b[0m 11ms/step - acc: 0.0000e+00 - loss: 7.7252 - mae: 2.0556 - val_acc: 0.0000e+00 - val_loss: 13.9839 - val_mae: 2.7250\n",
            "Epoch 95/100\n",
            "\u001b[1m11/11\u001b[0m \u001b[32m━━━━━━━━━━━━━━━━━━━━\u001b[0m\u001b[37m\u001b[0m \u001b[1m0s\u001b[0m 11ms/step - acc: 0.0000e+00 - loss: 8.5130 - mae: 2.0810 - val_acc: 0.0000e+00 - val_loss: 15.2517 - val_mae: 2.8790\n",
            "Epoch 96/100\n",
            "\u001b[1m11/11\u001b[0m \u001b[32m━━━━━━━━━━━━━━━━━━━━\u001b[0m\u001b[37m\u001b[0m \u001b[1m0s\u001b[0m 12ms/step - acc: 0.0000e+00 - loss: 7.7721 - mae: 2.0327 - val_acc: 0.0000e+00 - val_loss: 14.0897 - val_mae: 2.7390\n",
            "Epoch 97/100\n",
            "\u001b[1m11/11\u001b[0m \u001b[32m━━━━━━━━━━━━━━━━━━━━\u001b[0m\u001b[37m\u001b[0m \u001b[1m0s\u001b[0m 11ms/step - acc: 0.0000e+00 - loss: 6.5947 - mae: 1.8869 - val_acc: 0.0000e+00 - val_loss: 14.1068 - val_mae: 2.7354\n",
            "Epoch 98/100\n",
            "\u001b[1m11/11\u001b[0m \u001b[32m━━━━━━━━━━━━━━━━━━━━\u001b[0m\u001b[37m\u001b[0m \u001b[1m0s\u001b[0m 12ms/step - acc: 0.0000e+00 - loss: 6.9443 - mae: 1.9643 - val_acc: 0.0000e+00 - val_loss: 14.8682 - val_mae: 2.8061\n",
            "Epoch 99/100\n",
            "\u001b[1m11/11\u001b[0m \u001b[32m━━━━━━━━━━━━━━━━━━━━\u001b[0m\u001b[37m\u001b[0m \u001b[1m0s\u001b[0m 11ms/step - acc: 0.0000e+00 - loss: 7.1760 - mae: 2.0320 - val_acc: 0.0000e+00 - val_loss: 14.2629 - val_mae: 2.7149\n",
            "Epoch 100/100\n",
            "\u001b[1m11/11\u001b[0m \u001b[32m━━━━━━━━━━━━━━━━━━━━\u001b[0m\u001b[37m\u001b[0m \u001b[1m0s\u001b[0m 10ms/step - acc: 0.0000e+00 - loss: 7.5684 - mae: 2.0813 - val_acc: 0.0000e+00 - val_loss: 14.6289 - val_mae: 2.7716\n"
          ]
        }
      ]
    },
    {
      "cell_type": "code",
      "source": [
        "import matplotlib.pyplot as plt\n",
        "\n",
        "# Kayıpların çizimi\n",
        "plt.figure(figsize=(10, 6))\n",
        "plt.plot(history.history['loss'], label='Eğitim Kaybı (Loss)')\n",
        "plt.plot(history.history['val_loss'], label='Doğrulama Kaybı (Val Loss)')\n",
        "plt.xlabel('Epoch')\n",
        "plt.ylabel('MSE Loss')\n",
        "plt.title('Model Kayıp Grafiği')\n",
        "plt.legend()\n",
        "plt.grid(True)\n",
        "plt.show()\n"
      ],
      "metadata": {
        "colab": {
          "base_uri": "https://localhost:8080/",
          "height": 564
        },
        "id": "ARI3QtfunHVX",
        "outputId": "2ccbd47a-6bdd-48d0-ef00-cfc525e56afb"
      },
      "execution_count": 16,
      "outputs": [
        {
          "output_type": "display_data",
          "data": {
            "text/plain": [
              "<Figure size 1000x600 with 1 Axes>"
            ],
            "image/png": "[encoded data removed]"
          },
          "metadata": {}
        }
      ]
    },
    {
      "cell_type": "code",
      "source": [],
      "metadata": {
        "id": "zLWXFR98nQo5"
      },
      "execution_count": null,
      "outputs": []
    },
    {
      "cell_type": "code",
      "source": [
        "# Değerlendirme\n",
        "loss, mae, acc = model.evaluate(X_test_scaled, y_test)\n",
        "print(f\"Test MAE: {mae:.2f}, Acc: {acc:.2f}\")"
      ],
      "metadata": {
        "colab": {
          "base_uri": "https://localhost:8080/"
        },
        "id": "eLojxHrhmwfi",
        "outputId": "8ed185b7-0835-45d5-89ad-699ea7ba1357"
      },
      "execution_count": 17,
      "outputs": [
        {
          "output_type": "stream",
          "name": "stdout",
          "text": [
            "\u001b[1m4/4\u001b[0m \u001b[32m━━━━━━━━━━━━━━━━━━━━\u001b[0m\u001b[37m\u001b[0m \u001b[1m0s\u001b[0m 10ms/step - acc: 0.0000e+00 - loss: 9.8801 - mae: 2.3320\n",
            "Test MAE: 2.49, Acc: 0.00\n"
          ]
        }
      ]
    },
    {
      "cell_type": "code",
      "source": [
        "from keras.datasets import boston_housing"
      ],
      "metadata": {
        "id": "Jgl2dL3Fm5kd"
      },
      "execution_count": 18,
      "outputs": []
    },
    {
      "cell_type": "code",
      "source": [
        "(x_train, y_train),(x_test, y_test) = boston_housing.load_data()"
      ],
      "metadata": {
        "colab": {
          "base_uri": "https://localhost:8080/"
        },
        "id": "20NN7CkUoRTi",
        "outputId": "0d5b591b-4547-4395-ed2a-a2e3ef0ea450"
      },
      "execution_count": 19,
      "outputs": [
        {
          "output_type": "stream",
          "name": "stdout",
          "text": [
            "Downloading data from https://storage.googleapis.com/tensorflow/tf-keras-datasets/boston_housing.npz\n",
            "\u001b[1m57026/57026\u001b[0m \u001b[32m━━━━━━━━━━━━━━━━━━━━\u001b[0m\u001b[37m\u001b[0m \u001b[1m0s\u001b[0m 0us/step\n"
          ]
        }
      ]
    },
    {
      "cell_type": "code",
      "source": [
        "x_train.shape"
      ],
      "metadata": {
        "colab": {
          "base_uri": "https://localhost:8080/"
        },
        "id": "14GeJvTwobvQ",
        "outputId": "049c07f3-6934-4808-cca1-9c7c0a22584d"
      },
      "execution_count": 20,
      "outputs": [
        {
          "output_type": "execute_result",
          "data": {
            "text/plain": [
              "(404, 13)"
            ]
          },
          "metadata": {},
          "execution_count": 20
        }
      ]
    },
    {
      "cell_type": "code",
      "source": [],
      "metadata": {
        "id": "w1Awxv6FodP1"
      },
      "execution_count": null,
      "outputs": []
    },
    {
      "cell_type": "code",
      "source": [],
      "metadata": {
        "id": "4mFhHnq5pALm"
      },
      "execution_count": null,
      "outputs": []
    },
    {
      "cell_type": "code",
      "source": [
        "from sklearn.model_selection import KFold\n",
        "from sklearn.preprocessing import StandardScaler\n",
        "from tensorflow.keras import models, layers\n",
        "import numpy as np\n",
        "\n",
        "# X ve y tanımlı olmalı\n",
        "X = df.drop(\"medv\", axis=1).values\n",
        "y = df[\"medv\"].values\n",
        "\n",
        "kf = KFold(n_splits=5, shuffle=True, random_state=42)\n",
        "\n",
        "mae_scores = []\n",
        "\n",
        "for fold, (train_idx, val_idx) in enumerate(kf.split(X)):\n",
        "    print(f\"Fold {fold + 1}\")\n",
        "\n",
        "    # Split\n",
        "    X_train, X_val = X[train_idx], X[val_idx]\n",
        "    y_train, y_val = y[train_idx], y[val_idx]\n",
        "\n",
        "    # Ölçeklendirme\n",
        "    scaler = StandardScaler()\n",
        "    X_train_scaled = scaler.fit_transform(X_train)\n",
        "    X_val_scaled = scaler.transform(X_val)\n",
        "\n",
        "    # Modeli oluştur\n",
        "    model = models.Sequential([\n",
        "        layers.Dense(64, activation='relu', input_shape=[X_train.shape[1]]),\n",
        "        layers.Dense(64, activation='relu'),\n",
        "        layers.Dense(1)\n",
        "    ])\n",
        "\n",
        "    model.compile(optimizer='adam', loss='mse', metrics=['mae'])\n",
        "\n",
        "    # Eğit\n",
        "    model.fit(X_train_scaled, y_train, epochs=100, batch_size=32, verbose=0)\n",
        "\n",
        "    # Değerlendir\n",
        "    loss, mae = model.evaluate(X_val_scaled, y_val, verbose=0)\n",
        "    print(f\"Fold {fold + 1} MAE: {mae:.2f}\")\n",
        "    mae_scores.append(mae)\n",
        "\n",
        "# Ortalama sonuç\n",
        "print(\"\\nOrtalama MAE:\", np.mean(mae_scores))\n",
        "print(\"Standart Sapma:\", np.std(mae_scores))\n"
      ],
      "metadata": {
        "colab": {
          "base_uri": "https://localhost:8080/"
        },
        "id": "lCc4NuMtpApV",
        "outputId": "fda3e24f-96d8-4307-9ca3-314933d83b6a"
      },
      "execution_count": 21,
      "outputs": [
        {
          "output_type": "stream",
          "name": "stdout",
          "text": [
            "Fold 1\n"
          ]
        },
        {
          "output_type": "stream",
          "name": "stderr",
          "text": [
            "/usr/local/lib/python3.11/dist-packages/keras/src/layers/core/dense.py:87: UserWarning: Do not pass an `input_shape`/`input_dim` argument to a layer. When using Sequential models, prefer using an `Input(shape)` object as the first layer in the model instead.\n",
            "  super().__init__(activity_regularizer=activity_regularizer, **kwargs)\n"
          ]
        },
        {
          "output_type": "stream",
          "name": "stdout",
          "text": [
            "Fold 1 MAE: 2.30\n",
            "Fold 2\n"
          ]
        },
        {
          "output_type": "stream",
          "name": "stderr",
          "text": [
            "/usr/local/lib/python3.11/dist-packages/keras/src/layers/core/dense.py:87: UserWarning: Do not pass an `input_shape`/`input_dim` argument to a layer. When using Sequential models, prefer using an `Input(shape)` object as the first layer in the model instead.\n",
            "  super().__init__(activity_regularizer=activity_regularizer, **kwargs)\n"
          ]
        },
        {
          "output_type": "stream",
          "name": "stdout",
          "text": [
            "Fold 2 MAE: 1.96\n",
            "Fold 3\n"
          ]
        },
        {
          "output_type": "stream",
          "name": "stderr",
          "text": [
            "/usr/local/lib/python3.11/dist-packages/keras/src/layers/core/dense.py:87: UserWarning: Do not pass an `input_shape`/`input_dim` argument to a layer. When using Sequential models, prefer using an `Input(shape)` object as the first layer in the model instead.\n",
            "  super().__init__(activity_regularizer=activity_regularizer, **kwargs)\n"
          ]
        },
        {
          "output_type": "stream",
          "name": "stdout",
          "text": [
            "Fold 3 MAE: 2.87\n",
            "Fold 4\n"
          ]
        },
        {
          "output_type": "stream",
          "name": "stderr",
          "text": [
            "/usr/local/lib/python3.11/dist-packages/keras/src/layers/core/dense.py:87: UserWarning: Do not pass an `input_shape`/`input_dim` argument to a layer. When using Sequential models, prefer using an `Input(shape)` object as the first layer in the model instead.\n",
            "  super().__init__(activity_regularizer=activity_regularizer, **kwargs)\n"
          ]
        },
        {
          "output_type": "stream",
          "name": "stdout",
          "text": [
            "Fold 4 MAE: 2.58\n",
            "Fold 5\n"
          ]
        },
        {
          "output_type": "stream",
          "name": "stderr",
          "text": [
            "/usr/local/lib/python3.11/dist-packages/keras/src/layers/core/dense.py:87: UserWarning: Do not pass an `input_shape`/`input_dim` argument to a layer. When using Sequential models, prefer using an `Input(shape)` object as the first layer in the model instead.\n",
            "  super().__init__(activity_regularizer=activity_regularizer, **kwargs)\n"
          ]
        },
        {
          "output_type": "stream",
          "name": "stdout",
          "text": [
            "Fold 5 MAE: 2.68\n",
            "\n",
            "Ortalama MAE: 2.4763692378997804\n",
            "Standart Sapma: 0.31679325502967687\n"
          ]
        }
      ]
    },
    {
      "cell_type": "code",
      "source": [],
      "metadata": {
        "id": "PouLfvizpBLf"
      },
      "execution_count": null,
      "outputs": []
    },
    {
      "cell_type": "code",
      "source": [
        "# Gerekli kütüphaneler\n",
        "import numpy as np\n",
        "import tensorflow as tf\n",
        "from tensorflow import keras\n",
        "from tensorflow.keras import layers\n",
        "from sklearn.datasets import fetch_california_housing\n",
        "from sklearn.model_selection import train_test_split\n",
        "from sklearn.preprocessing import StandardScaler\n",
        "import keras_tuner as kt\n",
        "\n",
        "# Veri setini yükle (Boston kaldırıldı, onun yerine California)\n",
        "data = fetch_california_housing()\n",
        "X = data.data\n",
        "y = data.target\n",
        "\n",
        "# Veriyi ayır\n",
        "X_train, X_test, y_train, y_test = train_test_split(X, y, test_size=0.2, random_state=42)\n",
        "\n",
        "# Veriyi ölçekle\n",
        "scaler = StandardScaler()\n",
        "X_train_scaled = scaler.fit_transform(X_train)\n",
        "X_test_scaled = scaler.transform(X_test)\n",
        "\n",
        "# Tuning için model tanımı\n",
        "def build_model(hp):\n",
        "    model = keras.Sequential()\n",
        "\n",
        "    # Katman sayısını seç (1 ile 3 arası)\n",
        "    for i in range(hp.Int(\"num_layers\", 1, 3)):\n",
        "        model.add(layers.Dense(\n",
        "            units=hp.Int(f'units_{i}', min_value=32, max_value=256, step=32),\n",
        "            activation='relu'\n",
        "        ))\n",
        "\n",
        "    # Çıkış katmanı\n",
        "    model.add(layers.Dense(1))\n",
        "\n",
        "    # Optimizer ve öğrenme oranı seçimi\n",
        "    model.compile(\n",
        "        optimizer=keras.optimizers.Adam(\n",
        "            hp.Float(\"learning_rate\", 1e-4, 1e-2, sampling=\"log\")\n",
        "        ),\n",
        "        loss='mse',\n",
        "        metrics=['mae']\n",
        "    )\n",
        "\n",
        "    return model\n",
        "\n",
        "# Tuner oluştur\n",
        "tuner = kt.Hyperband(\n",
        "    build_model,\n",
        "    objective=\"val_mae\",\n",
        "    max_epochs=30,\n",
        "    factor=3,\n",
        "    directory=\"my_tuner_dir\",\n",
        "    project_name=\"california_house_price\"\n",
        ")\n",
        "\n",
        "# Early stopping\n",
        "stop_early = keras.callbacks.EarlyStopping(monitor=\"val_loss\", patience=5)\n",
        "\n",
        "# Aramayı başlat\n",
        "tuner.search(X_train_scaled, y_train, epochs=50, validation_split=0.2, callbacks=[stop_early], verbose=1)\n",
        "\n",
        "# En iyi hiperparametreleri al\n",
        "best_hps = tuner.get_best_hyperparameters(num_trials=1)[0]\n",
        "\n",
        "print(\"En iyi hiperparametreler:\")\n",
        "print(f\"- Katman sayısı: {best_hps.get('num_layers')}\")\n",
        "for i in range(best_hps.get('num_layers')):\n",
        "    print(f\"  - Layer {i} units: {best_hps.get(f'units_{i}')}\")\n",
        "print(f\"- Öğrenme oranı: {best_hps.get('learning_rate')}\")\n",
        "\n",
        "# En iyi modeli oluştur ve eğit\n",
        "model = tuner.hypermodel.build(best_hps)\n",
        "history = model.fit(X_train_scaled, y_train, epochs=50, validation_split=0.2, callbacks=[stop_early], verbose=1)\n",
        "\n",
        "# Test setinde değerlendirme\n",
        "test_loss, test_mae = model.evaluate(X_test_scaled, y_test, verbose=0)\n",
        "print(f\"\\nTest MAE: {test_mae:.2f}\")\n"
      ],
      "metadata": {
        "id": "ewvptBCCwSun"
      },
      "execution_count": null,
      "outputs": []
    }
  ]
}