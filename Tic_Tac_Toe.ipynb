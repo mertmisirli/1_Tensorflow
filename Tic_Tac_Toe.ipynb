{
  "nbformat": 4,
  "nbformat_minor": 0,
  "metadata": {
    "colab": {
      "provenance": [],
      "authorship_tag": "ABX9TyMZgGuar02qdNLvnSSA7JeQ"
    },
    "kernelspec": {
      "name": "python3",
      "display_name": "Python 3"
    },
    "language_info": {
      "name": "python"
    }
  },
  "cells": [
    {
      "cell_type": "code",
      "execution_count": 3,
      "metadata": {
        "colab": {
          "base_uri": "https://localhost:8080/"
        },
        "id": "hKYVk10-SvTC",
        "outputId": "c29bd931-97ec-4092-fcca-28e2c53a18c6"
      },
      "outputs": [
        {
          "output_type": "stream",
          "name": "stdout",
          "text": [
            "  |   |  \n",
            "--+---+--\n",
            "  |   |  \n",
            "--+---+--\n",
            "  |   |  \n"
          ]
        }
      ],
      "source": [
        "# Boş oyun tahtası (9 boş hücre)\n",
        "board = [' ' for _ in range(9)]\n",
        "\n",
        "def print_board(board):\n",
        "    print(f\"{board[0]} | {board[1]} | {board[2]}\")\n",
        "    print(\"--+---+--\")\n",
        "    print(f\"{board[3]} | {board[4]} | {board[5]}\")\n",
        "    print(\"--+---+--\")\n",
        "    print(f\"{board[6]} | {board[7]} | {board[8]}\")\n",
        "\n",
        "# Tahtayı yazdırmayı deneyelim\n",
        "print_board(board)\n"
      ]
    },
    {
      "cell_type": "code",
      "source": [
        "def player_move(board, player):\n",
        "    while True:\n",
        "        try:\n",
        "            move = int(input(f\"{player} için 0-8 arasında bir pozisyon seç (soldan sağa, üstten alta): \"))\n",
        "            if move < 0 or move > 8:\n",
        "                print(\"Lütfen 0 ile 8 arasında bir sayı gir.\")\n",
        "            elif board[move] != ' ':\n",
        "                print(\"Bu pozisyon zaten dolu, başka seç.\")\n",
        "            else:\n",
        "                board[move] = player\n",
        "                break\n",
        "        except ValueError:\n",
        "            print(\"Geçersiz giriş, lütfen sayı gir.\")\n",
        "\n",
        "# Oyuncu X hamle yapsın ve tahtayı gösterelim\n",
        "player_move(board, 'X')\n",
        "print_board(board)\n"
      ],
      "metadata": {
        "colab": {
          "base_uri": "https://localhost:8080/"
        },
        "id": "C1fRUiJHS2tb",
        "outputId": "6fe7804e-9133-450c-93f0-522e87aac857"
      },
      "execution_count": 4,
      "outputs": [
        {
          "output_type": "stream",
          "name": "stdout",
          "text": [
            "X için 0-8 arasında bir pozisyon seç (soldan sağa, üstten alta): 2\n",
            "  |   | X\n",
            "--+---+--\n",
            "  |   |  \n",
            "--+---+--\n",
            "  |   |  \n"
          ]
        }
      ]
    },
    {
      "cell_type": "code",
      "source": [
        "def is_winner(board, player):\n",
        "    # Kazanma koşulları (indeksler)\n",
        "    win_conditions = [\n",
        "        [0, 1, 2], [3, 4, 5], [6, 7, 8],  # yatay\n",
        "        [0, 3, 6], [1, 4, 7], [2, 5, 8],  # dikey\n",
        "        [0, 4, 8], [2, 4, 6]              # çapraz\n",
        "    ]\n",
        "    for condition in win_conditions:\n",
        "        if all(board[i] == player for i in condition):\n",
        "            return True\n",
        "    return False\n",
        "\n",
        "def is_draw(board):\n",
        "    # Tahtada boş alan yoksa beraberlik\n",
        "    return all(cell != ' ' for cell in board)\n"
      ],
      "metadata": {
        "id": "aRwvlhXxTSMY"
      },
      "execution_count": 5,
      "outputs": []
    },
    {
      "cell_type": "code",
      "source": [
        "def minimax(board, player):\n",
        "    if is_winner(board, 'X'):\n",
        "        return {'score': 1}\n",
        "    elif is_winner(board, 'O'):\n",
        "        return {'score': -1}\n",
        "    elif is_draw(board):\n",
        "        return {'score': 0}\n",
        "\n",
        "    moves = []\n",
        "\n",
        "    for i in range(len(board)):\n",
        "        if board[i] == ' ':\n",
        "            move = {}\n",
        "            move['index'] = i\n",
        "            board[i] = player\n",
        "\n",
        "            if player == 'X':\n",
        "                result = minimax(board, 'O')\n",
        "                move['score'] = result['score']\n",
        "            else:\n",
        "                result = minimax(board, 'X')\n",
        "                move['score'] = result['score']\n",
        "\n",
        "            board[i] = ' '\n",
        "            moves.append(move)\n",
        "\n",
        "    if player == 'X':\n",
        "        # Maksimize et\n",
        "        best_move = max(moves, key=lambda x: x['score'])\n",
        "    else:\n",
        "        # Minimize et\n",
        "        best_move = min(moves, key=lambda x: x['score'])\n",
        "\n",
        "    return best_move\n"
      ],
      "metadata": {
        "id": "VFXf8G-_TaKK"
      },
      "execution_count": 6,
      "outputs": []
    },
    {
      "cell_type": "code",
      "source": [
        "def ai_move(board):\n",
        "    move = minimax(board, 'X')\n",
        "    board[move['index']] = 'X'\n"
      ],
      "metadata": {
        "id": "RUlQquM0TmLn"
      },
      "execution_count": 7,
      "outputs": []
    },
    {
      "cell_type": "code",
      "source": [
        "# Boş tahtada AI hamle yapsın\n",
        "board = [' ' for _ in range(9)]\n",
        "ai_move(board)\n",
        "print_board(board)\n"
      ],
      "metadata": {
        "colab": {
          "base_uri": "https://localhost:8080/"
        },
        "id": "-yHLrbmJTndo",
        "outputId": "752f295c-3412-405d-9f75-213fb9cc6421"
      },
      "execution_count": 8,
      "outputs": [
        {
          "output_type": "stream",
          "name": "stdout",
          "text": [
            "X |   |  \n",
            "--+---+--\n",
            "  |   |  \n",
            "--+---+--\n",
            "  |   |  \n"
          ]
        }
      ]
    },
    {
      "cell_type": "code",
      "source": [
        "def play_game():\n",
        "    board = [' ' for _ in range(9)]\n",
        "    current_player = 'O'  # İnsan oyuncu başlasın\n",
        "\n",
        "    while True:\n",
        "        print_board(board)\n",
        "\n",
        "        if current_player == 'O':\n",
        "            player_move(board, 'O')\n",
        "            if is_winner(board, 'O'):\n",
        "                print_board(board)\n",
        "                print(\"Tebrikler, kazandın!\")\n",
        "                break\n",
        "        else:\n",
        "            print(\"AI hamle yapıyor...\")\n",
        "            ai_move(board)\n",
        "            if is_winner(board, 'X'):\n",
        "                print_board(board)\n",
        "                print(\"AI kazandı!\")\n",
        "                break\n",
        "\n",
        "        if is_draw(board):\n",
        "            print_board(board)\n",
        "            print(\"Beraberlik oldu!\")\n",
        "            break\n",
        "\n",
        "        # Sırayı değiştir\n",
        "        current_player = 'X' if current_player == 'O' else 'O'\n",
        "\n",
        "play_game()\n"
      ],
      "metadata": {
        "colab": {
          "base_uri": "https://localhost:8080/"
        },
        "id": "mYkE1d2ATpB8",
        "outputId": "96c8f3cf-c6aa-4e4a-cc78-062f920398ad"
      },
      "execution_count": 9,
      "outputs": [
        {
          "output_type": "stream",
          "name": "stdout",
          "text": [
            "  |   |  \n",
            "--+---+--\n",
            "  |   |  \n",
            "--+---+--\n",
            "  |   |  \n",
            "O için 0-8 arasında bir pozisyon seç (soldan sağa, üstten alta): 1\n",
            "  | O |  \n",
            "--+---+--\n",
            "  |   |  \n",
            "--+---+--\n",
            "  |   |  \n",
            "AI hamle yapıyor...\n",
            "X | O |  \n",
            "--+---+--\n",
            "  |   |  \n",
            "--+---+--\n",
            "  |   |  \n",
            "O için 0-8 arasında bir pozisyon seç (soldan sağa, üstten alta): 3\n",
            "X | O |  \n",
            "--+---+--\n",
            "O |   |  \n",
            "--+---+--\n",
            "  |   |  \n",
            "AI hamle yapıyor...\n",
            "X | O |  \n",
            "--+---+--\n",
            "O | X |  \n",
            "--+---+--\n",
            "  |   |  \n",
            "O için 0-8 arasında bir pozisyon seç (soldan sağa, üstten alta): 8\n",
            "X | O |  \n",
            "--+---+--\n",
            "O | X |  \n",
            "--+---+--\n",
            "  |   | O\n",
            "AI hamle yapıyor...\n",
            "X | O | X\n",
            "--+---+--\n",
            "O | X |  \n",
            "--+---+--\n",
            "  |   | O\n",
            "O için 0-8 arasında bir pozisyon seç (soldan sağa, üstten alta): 6\n",
            "X | O | X\n",
            "--+---+--\n",
            "O | X |  \n",
            "--+---+--\n",
            "O |   | O\n",
            "AI hamle yapıyor...\n",
            "X | O | X\n",
            "--+---+--\n",
            "O | X |  \n",
            "--+---+--\n",
            "O | X | O\n",
            "O için 0-8 arasında bir pozisyon seç (soldan sağa, üstten alta): 5\n",
            "X | O | X\n",
            "--+---+--\n",
            "O | X | O\n",
            "--+---+--\n",
            "O | X | O\n",
            "Beraberlik oldu!\n"
          ]
        }
      ]
    },
    {
      "cell_type": "code",
      "source": [],
      "metadata": {
        "id": "WcTbmWXfTu17"
      },
      "execution_count": null,
      "outputs": []
    }
  ]
}